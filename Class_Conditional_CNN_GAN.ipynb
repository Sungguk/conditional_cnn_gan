{
 "cells": [
  {
   "cell_type": "markdown",
   "metadata": {
    "deletable": true,
    "editable": true
   },
   "source": [
    "# Class Conditional CNN GAN\n",
    "Generative Adversarial Network created to generate samples given a class label. \n",
    "This code is based on:\n",
    "1. \"Conditional Generative Adversarial Nets\" by Mehdi Mirza, Simon Osindero. https://arxiv.org/abs/1411.1784\n",
    "2. https://github.com/osh/KerasGAN\n",
    "3. https://github.com/r0nn13/conditional-dcgan-keras \n",
    "\n"
   ]
  },
  {
   "cell_type": "code",
   "execution_count": 1,
   "metadata": {
    "collapsed": false,
    "deletable": true,
    "editable": true,
    "scrolled": true
   },
   "outputs": [
    {
     "name": "stderr",
     "output_type": "stream",
     "text": [
      "/usr/local/lib/python2.7/dist-packages/matplotlib/font_manager.py:273: UserWarning: Matplotlib is building the font cache using fc-list. This may take a moment.\n",
      "  warnings.warn('Matplotlib is building the font cache using fc-list. This may take a moment.')\n",
      "Using Theano backend.\n",
      "WARNING (theano.sandbox.cuda): The cuda backend is deprecated and will be removed in the next release (v0.10).  Please switch to the gpuarray backend. You can get more information about how to switch at this URL:\n",
      " https://github.com/Theano/Theano/wiki/Converting-to-the-new-gpu-back-end%28gpuarray%29\n",
      "\n",
      "Using gpu device 0: GeForce GTX 770 (CNMeM is enabled with initial size: 75.0% of memory, cuDNN 5005)\n"
     ]
    }
   ],
   "source": [
    "%matplotlib inline\n",
    "from matplotlib import pyplot as plt\n",
    "\n",
    "import numpy as np\n",
    "\n",
    "from keras.models import Model\n",
    "\n",
    "from keras.layers import Input, merge\n",
    "from keras.layers.core import Reshape, Dense, Dropout, Activation, Flatten#, MaxoutDense\n",
    "from keras.layers.advanced_activations import LeakyReLU\n",
    "from keras.layers.convolutional import Convolution2D, UpSampling2D, ZeroPadding1D, Deconvolution2D, Conv2D, Conv2DTranspose\n",
    "\n",
    "from keras.layers.normalization import BatchNormalization\n",
    "from keras.optimizers import Adam, SGD, Adagrad\n",
    "from keras.datasets import mnist"
   ]
  },
  {
   "cell_type": "code",
   "execution_count": 2,
   "metadata": {
    "collapsed": true,
    "deletable": true,
    "editable": true
   },
   "outputs": [],
   "source": [
    "from keras.layers import concatenate"
   ]
  },
  {
   "cell_type": "code",
   "execution_count": 3,
   "metadata": {
    "collapsed": true,
    "deletable": true,
    "editable": true
   },
   "outputs": [],
   "source": [
    "from keras.utils import np_utils"
   ]
  },
  {
   "cell_type": "code",
   "execution_count": 4,
   "metadata": {
    "collapsed": true,
    "deletable": true,
    "editable": true
   },
   "outputs": [],
   "source": [
    "import time\n",
    "from IPython import display"
   ]
  },
  {
   "cell_type": "markdown",
   "metadata": {
    "deletable": true,
    "editable": true
   },
   "source": [
    "## Import and preprocess MNIST data"
   ]
  },
  {
   "cell_type": "code",
   "execution_count": 5,
   "metadata": {
    "collapsed": false,
    "deletable": true,
    "editable": true
   },
   "outputs": [],
   "source": [
    "(x_train, y_train), (x_test, y_test) = mnist.load_data()"
   ]
  },
  {
   "cell_type": "code",
   "execution_count": 6,
   "metadata": {
    "collapsed": false,
    "deletable": true,
    "editable": true
   },
   "outputs": [],
   "source": [
    "nb_classes = np.unique(y_train).shape[0]"
   ]
  },
  {
   "cell_type": "code",
   "execution_count": 7,
   "metadata": {
    "collapsed": true,
    "deletable": true,
    "editable": true
   },
   "outputs": [],
   "source": [
    "img_rows, img_cols = x_train.shape[1:]"
   ]
  },
  {
   "cell_type": "code",
   "execution_count": 8,
   "metadata": {
    "collapsed": false,
    "deletable": true,
    "editable": true
   },
   "outputs": [
    {
     "name": "stdout",
     "output_type": "stream",
     "text": [
      "Image dimensions: 28 x 28\n",
      "Num. categories: 10\n",
      "Num. train samples: 60000\n",
      "Num. test samples: 10000\n"
     ]
    }
   ],
   "source": [
    "print 'Image dimensions: {} x {}'.format(img_rows, img_cols)\n",
    "print 'Num. categories: {}'.format(len(np.unique(y_train)))\n",
    "print 'Num. train samples: {}'.format(x_train.shape[0])\n",
    "print 'Num. test samples: {}'.format(x_test.shape[0])"
   ]
  },
  {
   "cell_type": "markdown",
   "metadata": {
    "deletable": true,
    "editable": true
   },
   "source": [
    "Reshape images so that they are compatible with Keras / Theano.  \n",
    "Convert images to float32 so that neural network can be trainined using the GPU.  \n",
    "Scale image values so that they work well with the neural network.  "
   ]
  },
  {
   "cell_type": "code",
   "execution_count": 9,
   "metadata": {
    "collapsed": false,
    "deletable": true,
    "editable": true
   },
   "outputs": [],
   "source": [
    "x_train = x_train.reshape(x_train.shape[0], img_rows, img_cols, 1)\n",
    "x_test = x_test.reshape(x_test.shape[0], img_rows, img_cols, 1)\n",
    "x_train, x_test = x_train.astype('float32'), x_test.astype('float32')\n",
    "x_train, x_test = x_train/255, x_test/255"
   ]
  },
  {
   "cell_type": "code",
   "execution_count": 10,
   "metadata": {
    "collapsed": false,
    "deletable": true,
    "editable": true
   },
   "outputs": [
    {
     "name": "stdout",
     "output_type": "stream",
     "text": [
      "Label for image index 10: 3\n",
      "Image:\n"
     ]
    },
    {
     "data": {
      "image/png": "[encoded data removed]",
      "text/plain": [
       "<matplotlib.figure.Figure at 0x7ffb45124650>"
      ]
     },
     "metadata": {},
     "output_type": "display_data"
    }
   ],
   "source": [
    "i = 10\n",
    "print 'Label for image index {}: {}'.format(i, y_train[i])\n",
    "print 'Image:'\n",
    "plt.imshow(x_train[i,:,:,0], cmap=plt.cm.gray);"
   ]
  },
  {
   "cell_type": "markdown",
   "metadata": {
    "deletable": true,
    "editable": true
   },
   "source": [
    "## Create the GAN model"
   ]
  },
  {
   "cell_type": "code",
   "execution_count": 11,
   "metadata": {
    "collapsed": true,
    "deletable": true,
    "editable": true
   },
   "outputs": [],
   "source": [
    "def make_trainable(net, val):\n",
    "    net.trainable = val\n",
    "    for l in net.layers:\n",
    "        l.trainable = val"
   ]
  },
  {
   "cell_type": "markdown",
   "metadata": {
    "deletable": true,
    "editable": true
   },
   "source": [
    "### Generator"
   ]
  },
  {
   "cell_type": "code",
   "execution_count": 12,
   "metadata": {
    "collapsed": true,
    "deletable": true,
    "editable": true
   },
   "outputs": [],
   "source": [
    "noise_dim = 134\n",
    "nb_classes = 10"
   ]
  },
  {
   "cell_type": "code",
   "execution_count": 13,
   "metadata": {
    "collapsed": false,
    "deletable": true,
    "editable": true
   },
   "outputs": [],
   "source": [
    "g_opt = Adam(lr=1e-4)\n",
    "g_opt = Adam()"
   ]
  },
  {
   "cell_type": "code",
   "execution_count": 14,
   "metadata": {
    "collapsed": false,
    "deletable": true,
    "editable": true
   },
   "outputs": [],
   "source": [
    "g_input_noise = Input(shape=[noise_dim], name='noise input')\n",
    "\n",
    "g_input_label = Input(shape=[nb_classes], name = 'label input')\n",
    "g_input_label_2 = Dense(50, kernel_initializer='glorot_normal')(g_input_label)\n",
    "# g_input_label_2 = BatchNormalization(mode=2)(g_input_label_2)\n",
    "g_input_label_2 = Activation('relu')(g_input_label_2)\n",
    "\n",
    "g_input = concatenate([g_input_noise, g_input_label_2])\n",
    "\n",
    "g = Dense(200*14*14, kernel_initializer='glorot_normal')(g_input)\n",
    "g = BatchNormalization()(g)\n",
    "g = Activation('relu')(g)\n",
    "\n",
    "g = Reshape([14, 14, 200])(g)\n",
    "g = UpSampling2D(size=(2, 2))(g)\n",
    "\n",
    "g = Conv2D(256, (3, 3), padding='same', kernel_initializer='glorot_normal')(g)\n",
    "g = BatchNormalization()(g)\n",
    "g = Activation('relu')(g)\n",
    "\n",
    "g = Conv2D(128, (3, 3), padding='same', kernel_initializer='glorot_normal')(g)\n",
    "g = BatchNormalization()(g)\n",
    "g = Activation('relu')(g)\n",
    "\n",
    "g = Convolution2D(1, (1, 1), padding='same', kernel_initializer='glorot_normal')(g)\n",
    "g_output = Activation('sigmoid')(g)\n",
    "\n",
    "generator = Model([g_input_noise, g_input_label], g_output)\n",
    "# generator.compile(loss='binary_crossentropy', optimizer=g_opt)"
   ]
  },
  {
   "cell_type": "code",
   "execution_count": 16,
   "metadata": {
    "collapsed": false,
    "deletable": true,
    "editable": true
   },
   "outputs": [],
   "source": [
    "g_input_noise = Input(shape=[noise_dim], name='noise input')\n",
    "\n",
    "g_input_label = Input(shape=[nb_classes], name = 'label input')\n",
    "g_input_label_2 = Dense(50, kernel_initializer='glorot_normal')(g_input_label)\n",
    "# g_input_label_2 = BatchNormalization(mode=2)(g_input_label_2)\n",
    "g_input_label_2 = Activation('relu')(g_input_label_2)\n",
    "\n",
    "g_input = concatenate([g_input_noise, g_input_label_2])\n",
    "\n",
    "g = Dense(50*14*14, kernel_initializer='glorot_normal')(g_input)\n",
    "g = BatchNormalization()(g)\n",
    "g = Activation('relu')(g)\n",
    "\n",
    "g = Reshape([14, 14, 50])(g)\n",
    "g = UpSampling2D(size=(2, 2))(g)\n",
    "\n",
    "g = Conv2D(256, (3, 3), padding='same', kernel_initializer='glorot_normal')(g)\n",
    "g = BatchNormalization()(g)\n",
    "g = Activation('relu')(g)\n",
    "\n",
    "g = Conv2D(128, (3, 3), padding='same', kernel_initializer='glorot_normal')(g)\n",
    "g = BatchNormalization()(g)\n",
    "g = Activation('relu')(g)\n",
    "\n",
    "g = Conv2D(64, (3, 3), padding='same', kernel_initializer='glorot_normal')(g)\n",
    "g = BatchNormalization()(g)\n",
    "g = Activation('relu')(g)\n",
    "\n",
    "g = Convolution2D(1, (1, 1), padding='same', kernel_initializer='glorot_normal')(g)\n",
    "g_output = Activation('sigmoid')(g)\n",
    "\n",
    "generator = Model([g_input_noise, g_input_label], g_output)\n",
    "# generator.compile(loss='binary_crossentropy', optimizer=g_opt)"
   ]
  },
  {
   "cell_type": "code",
   "execution_count": 17,
   "metadata": {
    "collapsed": false,
    "deletable": true,
    "editable": true
   },
   "outputs": [
    {
     "name": "stdout",
     "output_type": "stream",
     "text": [
      "____________________________________________________________________________________________________\n",
      "Layer (type)                     Output Shape          Param #     Connected to                     \n",
      "====================================================================================================\n",
      "label input (InputLayer)         (None, 10)            0                                            \n",
      "____________________________________________________________________________________________________\n",
      "dense_3 (Dense)                  (None, 50)            550                                          \n",
      "____________________________________________________________________________________________________\n",
      "noise input (InputLayer)         (None, 134)           0                                            \n",
      "____________________________________________________________________________________________________\n",
      "activation_3 (Activation)        (None, 50)            0                                            \n",
      "____________________________________________________________________________________________________\n",
      "concatenate_2 (Concatenate)      (None, 184)           0                                            \n",
      "____________________________________________________________________________________________________\n",
      "dense_4 (Dense)                  (None, 9800)          1813000                                      \n",
      "____________________________________________________________________________________________________\n",
      "batch_normalization_2 (BatchNorm (None, 9800)          39200                                        \n",
      "____________________________________________________________________________________________________\n",
      "activation_4 (Activation)        (None, 9800)          0                                            \n",
      "____________________________________________________________________________________________________\n",
      "reshape_2 (Reshape)              (None, 14, 14, 50)    0                                            \n",
      "____________________________________________________________________________________________________\n",
      "up_sampling2d_1 (UpSampling2D)   (None, 28, 28, 50)    0                                            \n",
      "____________________________________________________________________________________________________\n",
      "conv2d_1 (Conv2D)                (None, 28, 28, 256)   115456                                       \n",
      "____________________________________________________________________________________________________\n",
      "batch_normalization_3 (BatchNorm (None, 28, 28, 256)   1024                                         \n",
      "____________________________________________________________________________________________________\n",
      "activation_5 (Activation)        (None, 28, 28, 256)   0                                            \n",
      "____________________________________________________________________________________________________\n",
      "conv2d_2 (Conv2D)                (None, 28, 28, 128)   295040                                       \n",
      "____________________________________________________________________________________________________\n",
      "batch_normalization_4 (BatchNorm (None, 28, 28, 128)   512                                          \n",
      "____________________________________________________________________________________________________\n",
      "activation_6 (Activation)        (None, 28, 28, 128)   0                                            \n",
      "____________________________________________________________________________________________________\n",
      "conv2d_3 (Conv2D)                (None, 28, 28, 64)    73792                                        \n",
      "____________________________________________________________________________________________________\n",
      "batch_normalization_5 (BatchNorm (None, 28, 28, 64)    256                                          \n",
      "____________________________________________________________________________________________________\n",
      "activation_7 (Activation)        (None, 28, 28, 64)    0                                            \n",
      "____________________________________________________________________________________________________\n",
      "conv2d_4 (Conv2D)                (None, 28, 28, 1)     65                                           \n",
      "____________________________________________________________________________________________________\n",
      "activation_8 (Activation)        (None, 28, 28, 1)     0                                            \n",
      "====================================================================================================\n",
      "Total params: 2,338,895.0\n",
      "Trainable params: 2,318,399.0\n",
      "Non-trainable params: 20,496.0\n",
      "____________________________________________________________________________________________________\n"
     ]
    }
   ],
   "source": [
    "generator.summary()"
   ]
  },
  {
   "cell_type": "code",
   "execution_count": null,
   "metadata": {
    "collapsed": false,
    "deletable": true,
    "editable": true
   },
   "outputs": [],
   "source": [
    "g_input_noise = Input(shape=[100], name='noise input')\n",
    "\n",
    "g_input_label = Input(shape=[nb_classes], name = 'label input')\n",
    "g_input_label_2 = Dense(50, init='glorot_normal')(g_input_label)\n",
    "# g_input_label_2 = BatchNormalization(mode=2)(g_input_label_2)\n",
    "g_input_label_2 = Activation('relu')(g_input_label_2)\n",
    "\n",
    "g_input = merge([g_input_noise, g_input_label_2], mode='concat', concat_axis=1)\n",
    "\n",
    "g = Dense(200*14*14, init='glorot_normal')(g_input)\n",
    "g = BatchNormalization(mode=2)(g)\n",
    "g = Activation('relu')(g)\n",
    "\n",
    "\n",
    "g = Reshape([200, 14, 14])(g)\n",
    "g = UpSampling2D(size=(2, 2))(g)\n",
    "\n",
    "g = Convolution2D(100, 3, 3, padding='same', init='glorot_normal')(g)\n",
    "g = BatchNormalization(mode=2)(g)\n",
    "g = Activation('relu')(g)\n",
    "g = Dropout(0.25)(g)\n",
    "\n",
    "g = Convolution2D(50, 3, 3, padding='same', init='glorot_normal')(g)\n",
    "g = BatchNormalization(mode=2)(g)\n",
    "g = Activation('relu')(g)\n",
    "g = Dropout(0.25)(g)\n",
    "\n",
    "g = Convolution2D(1, 1, 1, padding='same', init='glorot_normal')(g)\n",
    "g_output = Activation('sigmoid')(g)\n",
    "\n",
    "generator = Model([g_input_noise, g_input_label], g_output)\n",
    "# generator.compile(loss='binary_crossentropy', optimizer=g_opt)"
   ]
  },
  {
   "cell_type": "markdown",
   "metadata": {
    "deletable": true,
    "editable": true
   },
   "source": [
    "#### Generator using Conv Transpose"
   ]
  },
  {
   "cell_type": "code",
   "execution_count": null,
   "metadata": {
    "collapsed": false,
    "deletable": true,
    "editable": true
   },
   "outputs": [],
   "source": [
    "g_input_noise = Input(shape=[noise_dim], name='noise input')\n",
    "g_input_label = Input(shape=[nb_classes], name = 'label input')\n",
    "g_input = concatenate([g_input_noise, g_input_label])\n",
    "g = Reshape([12, 12, 1])(g_input)\n",
    "\n",
    "g = Conv2DTranspose(100, (3, 3), padding='valid')(g)\n",
    "g = BatchNormalization()(g)\n",
    "g = Activation('relu')(g)\n",
    "\n",
    "g = Conv2DTranspose(50, (3, 3), strides=(2,2), padding='same')(g)\n",
    "g = BatchNormalization()(g)\n",
    "g = Activation('relu')(g)\n",
    "\n",
    "g = Conv2DTranspose(25, (3, 3), padding='same')(g)\n",
    "g = BatchNormalization()(g)\n",
    "g = Activation('relu')(g)\n",
    "\n",
    "g = Conv2DTranspose(1, (1, 1), padding='same')(g)\n",
    "g = BatchNormalization()(g)\n",
    "g_output = Activation('sigmoid')(g)\n",
    "\n",
    "generator = Model([g_input_noise, g_input_label], g_output)\n",
    "generator.compile(loss='binary_crossentropy', optimizer=g_opt)"
   ]
  },
  {
   "cell_type": "code",
   "execution_count": null,
   "metadata": {
    "collapsed": false,
    "deletable": true,
    "editable": true
   },
   "outputs": [],
   "source": [
    "generator.summary()"
   ]
  },
  {
   "cell_type": "markdown",
   "metadata": {
    "deletable": true,
    "editable": true
   },
   "source": [
    "#### Generator from the Conditional GAN Paper [Mehdi, 2014]"
   ]
  },
  {
   "cell_type": "code",
   "execution_count": null,
   "metadata": {
    "collapsed": true,
    "deletable": true,
    "editable": true
   },
   "outputs": [],
   "source": [
    "# g_input_noise = Input(shape=[100], name='noise input')\n",
    "# g_input_noise_2 = Dense(200, activation='relu')(g_input_noise)\n",
    "\n",
    "# g_input_label = Input(shape=[nb_classes], name = 'label input')\n",
    "# g_input_label_2 = Dense(1000, activation='relu')(g_input_label)\n",
    "\n",
    "# g_input = merge([g_input_noise_2, g_input_label_2], mode='concat', concat_axis=1)\n",
    "\n",
    "# g = Dense(1200, activation='relu')(g_input)\n",
    "# g = Dense(28*28, activation='sigmoid')(g)\n",
    "# g_output = Reshape(x_train.shape[1:])(g)\n",
    "\n",
    "# generator = Model([g_input_noise, g_input_label], g_output)"
   ]
  },
  {
   "cell_type": "code",
   "execution_count": null,
   "metadata": {
    "collapsed": false,
    "deletable": true,
    "editable": true
   },
   "outputs": [],
   "source": [
    "# generator.summary()"
   ]
  },
  {
   "cell_type": "markdown",
   "metadata": {
    "deletable": true,
    "editable": true
   },
   "source": [
    "### Discriminator"
   ]
  },
  {
   "cell_type": "code",
   "execution_count": 18,
   "metadata": {
    "collapsed": false,
    "deletable": true,
    "editable": true
   },
   "outputs": [],
   "source": [
    "d_opt = Adam(lr=1e-4)\n",
    "# d_opt = Adam()\n",
    "# d_opt = SGD(lr=0.01, momentum=0, decay=0)\n",
    "# d_opt = Adagrad()"
   ]
  },
  {
   "cell_type": "markdown",
   "metadata": {
    "deletable": true,
    "editable": true
   },
   "source": [
    "#### Label added as an image"
   ]
  },
  {
   "cell_type": "code",
   "execution_count": null,
   "metadata": {
    "collapsed": false,
    "deletable": true,
    "editable": true
   },
   "outputs": [],
   "source": [
    "d_input_img = Input(shape=x_train.shape[1:], name='image input')\n",
    "\n",
    "d_input_label = Input(shape=[nb_classes], name='label input')\n",
    "# d_input_label_2 = Reshape((10,1))(d_input_label)\n",
    "# d_input_label_2 = ZeroPadding1D(padding=(0,6))(d_input_label_2)\n",
    "# d_input_label_2 = Reshape((1,4,4))(d_input_label_2)\n",
    "# d_input_label_2 = UpSampling2D(size=(7,7))(d_input_label_2)\n",
    "d_input_label_2 = Dense(28*28, activation='relu')(d_input_label)\n",
    "d_input_label_2 = Reshape(x_train.shape[1:])(d_input_label_2)\n",
    "\n",
    "d_input = concatenate([d_input_img, d_input_label_2])\n",
    "\n",
    "d = Convolution2D(256, (5, 5), strides=(2, 2), padding='same')(d_input)\n",
    "d = LeakyReLU(0.2)(d)\n",
    "d = Dropout(0.25)(d)\n",
    "\n",
    "d = Convolution2D(512, (5, 5), strides=(2, 2), padding='same')(d)\n",
    "d = LeakyReLU(0.2)(d)\n",
    "d = Dropout(0.25)(d)\n",
    "\n",
    "d = Flatten()(d)\n",
    "d = Dense(256)(d)\n",
    "d = LeakyReLU(0.2)(d)\n",
    "d = Dropout(0.25)(d)\n",
    "\n",
    "d_output = Dense(2, activation='softmax')(d)\n",
    "\n",
    "discriminator = Model([d_input_img, d_input_label], d_output)\n",
    "discriminator.compile(loss='categorical_crossentropy', optimizer=d_opt)"
   ]
  },
  {
   "cell_type": "code",
   "execution_count": null,
   "metadata": {
    "collapsed": false,
    "deletable": true,
    "editable": true,
    "scrolled": false
   },
   "outputs": [],
   "source": [
    "discriminator.summary()"
   ]
  },
  {
   "cell_type": "markdown",
   "metadata": {
    "deletable": true,
    "editable": true
   },
   "source": [
    "#### Moved Label layer closer to the fully connected layer"
   ]
  },
  {
   "cell_type": "code",
   "execution_count": 19,
   "metadata": {
    "collapsed": false,
    "deletable": true,
    "editable": true
   },
   "outputs": [],
   "source": [
    "d_input_img = Input(shape=x_train.shape[1:], name='image input')\n",
    "d_input_label = Input(shape=[nb_classes], name='label input')\n",
    "\n",
    "d = Convolution2D(256, (5, 5), strides=(2, 2), padding='same')(d_input_img)\n",
    "d = LeakyReLU(0.2)(d)\n",
    "d = Dropout(0.25)(d)\n",
    "\n",
    "d = Convolution2D(512, (5, 5), strides=(2, 2), padding='same')(d)\n",
    "d = LeakyReLU(0.2)(d)\n",
    "d = Dropout(0.25)(d)\n",
    "\n",
    "d = Flatten()(d)\n",
    "d = concatenate([d, d_input_label])\n",
    "d = Dense(256)(d)\n",
    "d = LeakyReLU(0.2)(d)\n",
    "d = Dropout(0.25)(d)\n",
    "\n",
    "d_output = Dense(2, activation='softmax')(d)\n",
    "\n",
    "discriminator = Model([d_input_img, d_input_label], d_output)\n",
    "discriminator.compile(loss='categorical_crossentropy', optimizer=d_opt)"
   ]
  },
  {
   "cell_type": "code",
   "execution_count": 20,
   "metadata": {
    "collapsed": false,
    "deletable": true,
    "editable": true,
    "scrolled": false
   },
   "outputs": [
    {
     "name": "stdout",
     "output_type": "stream",
     "text": [
      "____________________________________________________________________________________________________\n",
      "Layer (type)                     Output Shape          Param #     Connected to                     \n",
      "====================================================================================================\n",
      "image input (InputLayer)         (None, 28, 28, 1)     0                                            \n",
      "____________________________________________________________________________________________________\n",
      "conv2d_5 (Conv2D)                (None, 14, 14, 256)   6656                                         \n",
      "____________________________________________________________________________________________________\n",
      "leaky_re_lu_1 (LeakyReLU)        (None, 14, 14, 256)   0                                            \n",
      "____________________________________________________________________________________________________\n",
      "dropout_1 (Dropout)              (None, 14, 14, 256)   0                                            \n",
      "____________________________________________________________________________________________________\n",
      "conv2d_6 (Conv2D)                (None, 7, 7, 512)     3277312                                      \n",
      "____________________________________________________________________________________________________\n",
      "leaky_re_lu_2 (LeakyReLU)        (None, 7, 7, 512)     0                                            \n",
      "____________________________________________________________________________________________________\n",
      "dropout_2 (Dropout)              (None, 7, 7, 512)     0                                            \n",
      "____________________________________________________________________________________________________\n",
      "flatten_1 (Flatten)              (None, 25088)         0                                            \n",
      "____________________________________________________________________________________________________\n",
      "label input (InputLayer)         (None, 10)            0                                            \n",
      "____________________________________________________________________________________________________\n",
      "concatenate_3 (Concatenate)      (None, 25098)         0                                            \n",
      "____________________________________________________________________________________________________\n",
      "dense_5 (Dense)                  (None, 256)           6425344                                      \n",
      "____________________________________________________________________________________________________\n",
      "leaky_re_lu_3 (LeakyReLU)        (None, 256)           0                                            \n",
      "____________________________________________________________________________________________________\n",
      "dropout_3 (Dropout)              (None, 256)           0                                            \n",
      "____________________________________________________________________________________________________\n",
      "dense_6 (Dense)                  (None, 2)             514                                          \n",
      "====================================================================================================\n",
      "Total params: 9,709,826.0\n",
      "Trainable params: 9,709,826.0\n",
      "Non-trainable params: 0.0\n",
      "____________________________________________________________________________________________________\n"
     ]
    }
   ],
   "source": [
    "discriminator.summary()"
   ]
  },
  {
   "cell_type": "code",
   "execution_count": null,
   "metadata": {
    "collapsed": false,
    "deletable": true,
    "editable": true
   },
   "outputs": [],
   "source": [
    "d_input_img = Input(shape=x_train.shape[1:], name='image input')\n",
    "d_input_label = Input(shape=[nb_classes], name='label input')\n",
    "\n",
    "d = Convolution2D(256, (5, 5), strides=(2, 2), padding='same')(d_input_img)\n",
    "d = LeakyReLU(0.2)(d)\n",
    "d = Dropout(0.25)(d)\n",
    "\n",
    "d = Convolution2D(512, (5, 5), strides=(2, 2), padding='same')(d)\n",
    "d = LeakyReLU(0.2)(d)\n",
    "d = Dropout(0.25)(d)\n",
    "\n",
    "d = Flatten()(d)\n",
    "d = concatenate([d, d_input_label])\n",
    "d = Dense(256)(d)\n",
    "d = LeakyReLU(0.2)(d)\n",
    "d = Dropout(0.25)(d)\n",
    "\n",
    "d_output = Dense(2, activation='softmax')(d)\n",
    "\n",
    "discriminator = Model([d_input_img, d_input_label], d_output)\n",
    "discriminator.compile(loss='categorical_crossentropy', optimizer=d_opt)"
   ]
  },
  {
   "cell_type": "code",
   "execution_count": null,
   "metadata": {
    "collapsed": false,
    "deletable": true,
    "editable": true,
    "scrolled": false
   },
   "outputs": [],
   "source": [
    "discriminator.summary()"
   ]
  },
  {
   "cell_type": "code",
   "execution_count": 17,
   "metadata": {
    "collapsed": false,
    "deletable": true,
    "editable": true
   },
   "outputs": [],
   "source": [
    "d_input_img = Input(shape=x_train.shape[1:], name='image input')\n",
    "d_input_label = Input(shape=[nb_classes], name='label input')\n",
    "\n",
    "d = Convolution2D(64, (5, 5), strides=(1, 1), padding='same')(d_input_img)\n",
    "d = BatchNormalization()(d)\n",
    "d = LeakyReLU(0.2)(d)\n",
    "d = Dropout(0.25)(d)\n",
    "\n",
    "d = Convolution2D(256, (5, 5), strides=(2, 2), padding='same')(d)\n",
    "d = BatchNormalization()(d)\n",
    "d = LeakyReLU(0.2)(d)\n",
    "d = Dropout(0.25)(d)\n",
    "\n",
    "d = Convolution2D(512, (5, 5), strides=(2, 2), padding='same')(d)\n",
    "d = BatchNormalization()(d)\n",
    "d = LeakyReLU(0.2)(d)\n",
    "d = Dropout(0.25)(d)\n",
    "\n",
    "d = Flatten()(d)\n",
    "d = concatenate([d, d_input_label])\n",
    "d = Dense(50)(d)\n",
    "d = LeakyReLU(0.2)(d)\n",
    "d = Dropout(0.25)(d)\n",
    "\n",
    "d_output = Dense(2, activation='softmax')(d)\n",
    "\n",
    "discriminator = Model([d_input_img, d_input_label], d_output)\n",
    "discriminator.compile(loss='categorical_crossentropy', optimizer=d_opt)"
   ]
  },
  {
   "cell_type": "code",
   "execution_count": null,
   "metadata": {
    "collapsed": false,
    "deletable": true,
    "editable": true,
    "scrolled": false
   },
   "outputs": [],
   "source": [
    "discriminator.summary()"
   ]
  },
  {
   "cell_type": "markdown",
   "metadata": {
    "deletable": true,
    "editable": true
   },
   "source": [
    "#### No label input. 2*nb_classes output"
   ]
  },
  {
   "cell_type": "code",
   "execution_count": null,
   "metadata": {
    "collapsed": false,
    "deletable": true,
    "editable": true
   },
   "outputs": [],
   "source": [
    "d_input_img = Input(shape=x_train.shape[1:], name='image input')\n",
    "\n",
    "d = Convolution2D(64, (5, 5), strides=(2, 2), padding='same')(d_input_img)\n",
    "d = LeakyReLU(0.2)(d)\n",
    "d = Dropout(0.25)(d)\n",
    "\n",
    "d = Convolution2D(256, (5, 5), strides=(2, 2), padding='same')(d)\n",
    "d = LeakyReLU(0.2)(d)\n",
    "d = Dropout(0.25)(d)\n",
    "\n",
    "d = Convolution2D(512, (5, 5), strides=(2, 2), padding='same')(d)\n",
    "d = LeakyReLU(0.2)(d)\n",
    "d = Dropout(0.25)(d)\n",
    "\n",
    "d = Flatten()(d)\n",
    "d = Dense(256)(d)\n",
    "d = LeakyReLU(0.2)(d)\n",
    "d = Dropout(0.25)(d)\n",
    "\n",
    "d_output = Dense(2*nb_classes, activation='softmax')(d)\n",
    "\n",
    "discriminator = Model(d_input_img, d_output)\n",
    "discriminator.compile(loss='categorical_crossentropy', optimizer=d_opt)"
   ]
  },
  {
   "cell_type": "code",
   "execution_count": null,
   "metadata": {
    "collapsed": false,
    "deletable": true,
    "editable": true,
    "scrolled": false
   },
   "outputs": [],
   "source": [
    "discriminator.summary()"
   ]
  },
  {
   "cell_type": "markdown",
   "metadata": {
    "deletable": true,
    "editable": true
   },
   "source": [
    "#### Using Batch Norm and Moved Label layer closer to the fully connected layer"
   ]
  },
  {
   "cell_type": "code",
   "execution_count": null,
   "metadata": {
    "collapsed": false,
    "deletable": true,
    "editable": true
   },
   "outputs": [],
   "source": [
    "d_input_img = Input(shape=x_train.shape[1:], name='image input')\n",
    "\n",
    "d_input_label = Input(shape=[nb_classes], name='label input')\n",
    "# d_input_label_2 = Reshape((10,1))(d_input_label)\n",
    "# d_input_label_2 = ZeroPadding1D(padding=(0,6))(d_input_label_2)\n",
    "# d_input_label_2 = Reshape((1,4,4))(d_input_label_2)\n",
    "# d_input_label_2 = UpSampling2D(size=(7,7))(d_input_label_2)\n",
    "# d_input_label_2 = Dense(28*28, activation='relu')(d_input_label)\n",
    "# d_input_label_2 = Reshape(x_train.shape[1:])(d_input_label_2)\n",
    "\n",
    "# d_input = merge([d_input_img, d_input_label_2], mode='concat', concat_axis=1)\n",
    "\n",
    "d = Convolution2D(256, (5, 5), strides=(2, 2), padding='same')(d_input_img)\n",
    "d = BatchNormalization()(d)\n",
    "d = LeakyReLU(0.2)(d)\n",
    "d = Dropout(0.25)(d)\n",
    "\n",
    "d = Convolution2D(512, (5, 5), strides=(2, 2), padding='same')(d)\n",
    "d = BatchNormalization()(d)\n",
    "d = LeakyReLU(0.2)(d)\n",
    "d = Dropout(0.25)(d)\n",
    "\n",
    "d = Flatten()(d)\n",
    "d = concatenate([d, d_input_label])\n",
    "d = Dense(256)(d)\n",
    "d = BatchNormalization()(d)\n",
    "d = LeakyReLU(0.2)(d)\n",
    "d = Dropout(0.25)(d)\n",
    "\n",
    "d_output = Dense(2, activation='softmax')(d)\n",
    "\n",
    "discriminator = Model([d_input_img, d_input_label], d_output)\n",
    "discriminator.compile(loss='categorical_crossentropy', optimizer=d_opt)"
   ]
  },
  {
   "cell_type": "code",
   "execution_count": null,
   "metadata": {
    "collapsed": false,
    "deletable": true,
    "editable": true
   },
   "outputs": [],
   "source": [
    "discriminator.summary()"
   ]
  },
  {
   "cell_type": "markdown",
   "metadata": {
    "deletable": true,
    "editable": true
   },
   "source": [
    "#### Discriminator from the Conditional GAN Paper [Mehdi, 2014]"
   ]
  },
  {
   "cell_type": "code",
   "execution_count": null,
   "metadata": {
    "collapsed": false,
    "deletable": true,
    "editable": true
   },
   "outputs": [],
   "source": [
    "# d_input_img = Input(shape=x_train.shape[1:], name='image input')\n",
    "# d_input_img_2 = MaxoutDense(240, nb_feature=5)(d_input_img)\n",
    "\n",
    "# d_input_label = Input(shape=[10], name='label input')\n",
    "# d_input_label_2 = MaxoutDense(50, nb_feature=5)(d_input_label)\n",
    "# d_input_label_2 = Reshape(x_train.shape[1:])(d_input_label_2)\n",
    "\n",
    "# d_input = merge([d_input_img_2, d_input_label_2], mode='concat', concat_axis=1)\n",
    "\n",
    "# d = MaxoutDense(240, nb_feature=4)(d_input)\n",
    "# d = Activation('sigmoid')(d)\n",
    "\n",
    "# discriminator = Model([d_input_img, d_input_label], d_output)\n",
    "# discriminator.compile(loss='binary_crossentropy', optimizer=d_opt)"
   ]
  },
  {
   "cell_type": "markdown",
   "metadata": {
    "deletable": true,
    "editable": true
   },
   "source": [
    "### Stack Generator and Discriminator"
   ]
  },
  {
   "cell_type": "code",
   "execution_count": 21,
   "metadata": {
    "collapsed": false,
    "deletable": true,
    "editable": true
   },
   "outputs": [],
   "source": [
    "make_trainable(discriminator, False)\n",
    "# discriminator.trainable = False"
   ]
  },
  {
   "cell_type": "code",
   "execution_count": 22,
   "metadata": {
    "collapsed": true,
    "deletable": true,
    "editable": true
   },
   "outputs": [],
   "source": [
    "gan_opt = Adam(lr=1e-4)"
   ]
  },
  {
   "cell_type": "code",
   "execution_count": 23,
   "metadata": {
    "collapsed": false,
    "deletable": true,
    "editable": true
   },
   "outputs": [],
   "source": [
    "gan_input_noise = Input(shape=[noise_dim])\n",
    "gan_input_label = Input(shape=[nb_classes])\n",
    "\n",
    "gan_input = concatenate([g_input_noise, g_input_label])\n",
    "g_output = generator([gan_input_noise, gan_input_label])\n",
    "gan_output = discriminator([g_output, gan_input_label])\n",
    "gan = Model([gan_input_noise, gan_input_label], gan_output)\n",
    "gan.compile(loss='categorical_crossentropy', optimizer=gan_opt)"
   ]
  },
  {
   "cell_type": "code",
   "execution_count": null,
   "metadata": {
    "collapsed": false,
    "deletable": true,
    "editable": true
   },
   "outputs": [],
   "source": [
    "gan_input_noise = Input(shape=[noise_dim])\n",
    "gan_input_label = Input(shape=[nb_classes])\n",
    "\n",
    "gan_input = concatenate([g_input_noise, g_input_label])\n",
    "g_output = generator([gan_input_noise, gan_input_label])\n",
    "gan_output = discriminator(g_output)\n",
    "gan = Model([gan_input_noise, gan_input_label], gan_output)\n",
    "gan.compile(loss='categorical_crossentropy', optimizer=gan_opt)"
   ]
  },
  {
   "cell_type": "code",
   "execution_count": null,
   "metadata": {
    "collapsed": false,
    "deletable": true,
    "editable": true
   },
   "outputs": [],
   "source": [
    "# gan.summary()"
   ]
  },
  {
   "cell_type": "markdown",
   "metadata": {
    "deletable": true,
    "editable": true
   },
   "source": [
    "## Train GAN"
   ]
  },
  {
   "cell_type": "code",
   "execution_count": null,
   "metadata": {
    "collapsed": false,
    "deletable": true,
    "editable": true
   },
   "outputs": [],
   "source": [
    "# d_opt.lr.set_value(1e-2)\n",
    "# gan_opt.lr.set_value(1e-3)"
   ]
  },
  {
   "cell_type": "markdown",
   "metadata": {
    "deletable": true,
    "editable": true
   },
   "source": [
    "### Pre train Discriminator"
   ]
  },
  {
   "cell_type": "code",
   "execution_count": 24,
   "metadata": {
    "collapsed": true,
    "deletable": true,
    "editable": true
   },
   "outputs": [],
   "source": [
    "# Sample real images\n",
    "n = 10000\n",
    "idx = np.random.randint(0, x_train.shape[0], size=n)\n",
    "real_images = x_train[idx, :, :, :]\n",
    "\n",
    "# Generate fake images\n",
    "noise = np.random.uniform(0, 1, size=[n, noise_dim])\n",
    "labels = np_utils.to_categorical(y_train[idx], num_classes = nb_classes)\n",
    "\n",
    "fake_images = generator.predict([noise, labels], verbose=0)"
   ]
  },
  {
   "cell_type": "code",
   "execution_count": 25,
   "metadata": {
    "collapsed": true,
    "deletable": true,
    "editable": true
   },
   "outputs": [],
   "source": [
    "# Combine real and fake images\n",
    "x = np.concatenate((real_images, fake_images, real_images))\n",
    "\n",
    "labels_wrong = np.random.randint(0, nb_classes, n)\n",
    "labels_wrong = np_utils.to_categorical(labels_wrong, num_classes=nb_classes)\n",
    "\n",
    "y = np.zeros([3*n, 2])\n",
    "y[:n, 1] = 1  # set second feature of y to 1 for real images\n",
    "y[n:, 0] = 1  # set first feature of y to 1 for fake images\n",
    "\n",
    "labels_2 = np.concatenate((labels, labels, labels_wrong))"
   ]
  },
  {
   "cell_type": "code",
   "execution_count": null,
   "metadata": {
    "collapsed": false,
    "deletable": true,
    "editable": true
   },
   "outputs": [],
   "source": [
    "y = np.zeros([2*n, 2*nb_classes])\n",
    "y[:n, :nb_classes] = labels  \n",
    "y[n:, nb_classes:] = labels"
   ]
  },
  {
   "cell_type": "code",
   "execution_count": 26,
   "metadata": {
    "collapsed": false,
    "deletable": true,
    "editable": true,
    "scrolled": false
   },
   "outputs": [
    {
     "name": "stdout",
     "output_type": "stream",
     "text": [
      "Epoch 1/1\n",
      "60s - loss: 0.4610\n"
     ]
    },
    {
     "data": {
      "text/plain": [
       "<keras.callbacks.History at 0x7ffb3c198b90>"
      ]
     },
     "execution_count": 26,
     "metadata": {},
     "output_type": "execute_result"
    }
   ],
   "source": [
    "# Train the discriminator part of the network\n",
    "make_trainable(discriminator, True)\n",
    "discriminator.fit([x, labels_2], y, epochs=1, batch_size=32, verbose=2)"
   ]
  },
  {
   "cell_type": "code",
   "execution_count": null,
   "metadata": {
    "collapsed": false,
    "deletable": true,
    "editable": true,
    "scrolled": false
   },
   "outputs": [],
   "source": [
    "# Train the discriminator part of the network\n",
    "make_trainable(discriminator, True)\n",
    "discriminator.fit(x, y, epochs=1, batch_size=32, verbose=2)"
   ]
  },
  {
   "cell_type": "code",
   "execution_count": null,
   "metadata": {
    "collapsed": false,
    "deletable": true,
    "editable": true
   },
   "outputs": [],
   "source": [
    "# d_loss = discriminator.train_on_batch(x, y)\n",
    "# print 'D loss: {}'.format(d_loss)"
   ]
  },
  {
   "cell_type": "markdown",
   "metadata": {
    "deletable": true,
    "editable": true
   },
   "source": [
    "### Train"
   ]
  },
  {
   "cell_type": "code",
   "execution_count": 27,
   "metadata": {
    "collapsed": false,
    "deletable": true,
    "editable": true
   },
   "outputs": [],
   "source": [
    "def show_fake_images(n, g_model):\n",
    "    noise = np.random.uniform(0, 1, size=[n, noise_dim])\n",
    "    label = np.random.randint(0, 10, size=n)\n",
    "    labels = np_utils.to_categorical(label, num_classes=nb_classes)\n",
    "    fake_images = g_model.predict([noise, labels], verbose=0)\n",
    "\n",
    "    for img, label in zip(fake_images, labels):\n",
    "        print 'Fake image using label {}:'.format(np.argmax(label))\n",
    "        plt.imshow(img[:,:,0], cmap=plt.cm.gray);\n",
    "        plt.show();"
   ]
  },
  {
   "cell_type": "code",
   "execution_count": 28,
   "metadata": {
    "collapsed": true,
    "deletable": true,
    "editable": true
   },
   "outputs": [],
   "source": [
    "batch_size = 32"
   ]
  },
  {
   "cell_type": "code",
   "execution_count": 29,
   "metadata": {
    "collapsed": true,
    "deletable": true,
    "editable": true
   },
   "outputs": [],
   "source": [
    "d_losses, gan_losses = [], []"
   ]
  },
  {
   "cell_type": "code",
   "execution_count": 30,
   "metadata": {
    "collapsed": false,
    "deletable": true,
    "editable": true
   },
   "outputs": [],
   "source": [
    "def train(epochs, d_losses, gan_losses):\n",
    "    for epoch in range(epochs):\n",
    "        start_time = time.time()\n",
    "        # Sample real images\n",
    "        idx = np.random.randint(0, x_train.shape[0], size=batch_size)\n",
    "        real_images = x_train[idx, :, :, :]\n",
    "\n",
    "        # Generate fake images\n",
    "        noise = np.random.uniform(0, 1, size=[batch_size, noise_dim])\n",
    "        labels = np_utils.to_categorical(y_train[idx], num_classes=nb_classes)\n",
    "        fake_images = generator.predict([noise, labels])\n",
    "\n",
    "        # Combine real and fake images\n",
    "        x = np.concatenate((real_images, fake_images, real_images))\n",
    "\n",
    "        labels_wrong = np.random.randint(0, nb_classes, batch_size)\n",
    "        labels_wrong = np_utils.to_categorical(labels_wrong, num_classes=nb_classes)\n",
    "\n",
    "        y = np.zeros([3*batch_size, 2])\n",
    "        y[:batch_size, 1] = 1  # set second feature of y to 1 for real images\n",
    "        y[batch_size:, 0] = 1  # set first feature of y to 1 for fake images\n",
    "\n",
    "        labels_2 = np.concatenate((labels, labels, labels_wrong))\n",
    "\n",
    "        # Combine real and fake images\n",
    "#         x = np.concatenate((real_images, fake_images))\n",
    "#         y = np.zeros([2*batch_size, 2])\n",
    "#         y[:batch_size, 1] = 1  # set second feature of y to 1 for real images\n",
    "#         y[batch_size:, 0] = 1  # set first feature of y to 1 for fake images\n",
    "\n",
    "        # Train the discriminator part of the network\n",
    "    #     discriminator.trainable = True\n",
    "#         labels_2 = np.concatenate((labels, labels))\n",
    "        d_loss = discriminator.train_on_batch([x, labels_2], y)\n",
    "\n",
    "        # Train the whole GAN network\n",
    "        x = np.random.uniform(0, 1, size=[batch_size*3, noise_dim])\n",
    "        labels = np_utils.to_categorical(np.random.randint(0, 10, size=batch_size), num_classes=nb_classes)\n",
    "        y = np.zeros([batch_size*3, 2])\n",
    "        y[:, 1] = 1\n",
    "    #     discriminator.trainable = False\n",
    "        gan_loss = gan.train_on_batch([x, np.concatenate((labels, labels, labels))], y)\n",
    "        d_losses += [d_loss]\n",
    "        gan_losses += [gan_loss]\n",
    "\n",
    "        if epoch % 20 == 0:  \n",
    "            display.clear_output(wait=True)\n",
    "            print 'Epoch {} out of {}'.format(epoch, epochs)\n",
    "            print 'D loss: {}'.format(d_loss)\n",
    "            print 'GAN loss: {}'.format(gan_loss)\n",
    "            print 'Time elapsed in epoch {}: {:.2f} seconds'.format(epoch, time.time()-start_time)\n",
    "    #         display.display(plt.gcf())\n",
    "            plt.plot(d_losses);\n",
    "            plt.plot(gan_losses);\n",
    "            plt.legend();\n",
    "            plt.show();\n",
    "\n",
    "            # Sample fake image\n",
    "            show_fake_images(2, generator)"
   ]
  },
  {
   "cell_type": "code",
   "execution_count": null,
   "metadata": {
    "collapsed": true,
    "deletable": true,
    "editable": true
   },
   "outputs": [],
   "source": [
    "def train(epochs, d_losses, gan_losses):\n",
    "    for epoch in range(epochs):\n",
    "        start_time = time.time()\n",
    "        # Sample real images\n",
    "        idx = np.random.randint(0, x_train.shape[0], size=batch_size)\n",
    "        real_images = x_train[idx, :, :, :]\n",
    "\n",
    "        # Generate fake images\n",
    "        noise = np.random.uniform(0, 1, size=[batch_size, noise_dim])\n",
    "        labels = np_utils.to_categorical(y_train[idx], num_classes=nb_classes)\n",
    "        fake_images = generator.predict([noise, labels])\n",
    "\n",
    "        # Combine real and fake images\n",
    "        x = np.concatenate((real_images, fake_images))\n",
    "        y = np.zeros([2*batch_size, 2*nb_classes])\n",
    "#         y[:batch_size, :nb_classes] = labels  \n",
    "#         y[batch_size:, nb_classes:] = labels\n",
    "        \n",
    "        # Train the discriminator part of the network\n",
    "    #     discriminator.trainable = True\n",
    "#         labels_2 = np.concatenate((labels, labels))\n",
    "        d_loss = discriminator.train_on_batch(x, y)\n",
    "\n",
    "        # Train the whole GAN network\n",
    "        x = np.random.uniform(0, 1, size=[batch_size, noise_dim])\n",
    "        labels = np_utils.to_categorical(np.random.randint(0, 10, size=batch_size), num_classes=nb_classes)\n",
    "        y = np.zeros([batch_size, 2*nb_classes])\n",
    "        y[:, nb_classes:] = labels\n",
    "\n",
    "#         y = np.zeros([batch_size, 2])\n",
    "#         y[:, 1] = 1\n",
    "        \n",
    "        \n",
    "    #     discriminator.trainable = False\n",
    "        gan_loss = gan.train_on_batch([x, labels], y)\n",
    "        d_losses += [d_loss]\n",
    "        gan_losses += [gan_loss]\n",
    "\n",
    "        if epoch % 20 == 0:  \n",
    "            display.clear_output(wait=True)\n",
    "            print 'Epoch {} out of {}'.format(epoch, epochs)\n",
    "            print 'D loss: {}'.format(d_loss)\n",
    "            print 'GAN loss: {}'.format(gan_loss)\n",
    "            print 'Time elapsed in epoch {}: {:.2f} seconds'.format(epoch, time.time()-start_time)\n",
    "    #         display.display(plt.gcf())\n",
    "            plt.plot(d_losses);\n",
    "            plt.plot(gan_losses);\n",
    "            plt.legend();\n",
    "            plt.show();\n",
    "\n",
    "            # Sample fake image\n",
    "            show_fake_images(2, generator)"
   ]
  },
  {
   "cell_type": "code",
   "execution_count": 31,
   "metadata": {
    "collapsed": false,
    "deletable": true,
    "editable": true,
    "scrolled": false
   },
   "outputs": [
    {
     "name": "stdout",
     "output_type": "stream",
     "text": [
      "Epoch 6980 out of 7000\n",
      "D loss: 0.50716739893\n",
      "GAN loss: 1.39136123657\n",
      "Time elapsed in epoch 6980: 1.17 seconds\n"
     ]
    },
    {
     "data": {
      "image/png": "[encoded data removed]",
      "text/plain": [
       "<matplotlib.figure.Figure at 0x7ffb0653e290>"
      ]
     },
     "metadata": {},
     "output_type": "display_data"
    },
    {
     "name": "stdout",
     "output_type": "stream",
     "text": [
      "Fake image using label 6:\n"
     ]
    },
    {
     "data": {
      "image/png": "[encoded data removed]",
      "text/plain": [
       "<matplotlib.figure.Figure at 0x7ffb067a7d50>"
      ]
     },
     "metadata": {},
     "output_type": "display_data"
    },
    {
     "name": "stdout",
     "output_type": "stream",
     "text": [
      "Fake image using label 0:\n"
     ]
    },
    {
     "data": {
      "image/png": "[encoded data removed]",
      "text/plain": [
       "<matplotlib.figure.Figure at 0x7ffb05fd32d0>"
      ]
     },
     "metadata": {},
     "output_type": "display_data"
    }
   ],
   "source": [
    "train(7000, d_losses, gan_losses)"
   ]
  },
  {
   "cell_type": "code",
   "execution_count": 32,
   "metadata": {
    "collapsed": false,
    "deletable": true,
    "editable": true,
    "scrolled": false
   },
   "outputs": [
    {
     "name": "stdout",
     "output_type": "stream",
     "text": [
      "Epoch 2980 out of 3000\n",
      "D loss: 0.48984003067\n",
      "GAN loss: 1.24583351612\n",
      "Time elapsed in epoch 2980: 1.17 seconds\n"
     ]
    },
    {
     "data": {
      "image/png": "[encoded data removed]",
      "text/plain": [
       "<matplotlib.figure.Figure at 0x7ffb0619b710>"
      ]
     },
     "metadata": {},
     "output_type": "display_data"
    },
    {
     "name": "stdout",
     "output_type": "stream",
     "text": [
      "Fake image using label 7:\n"
     ]
    },
    {
     "data": {
      "image/png": "[encoded data removed]",
      "text/plain": [
       "<matplotlib.figure.Figure at 0x7ffb06e2e110>"
      ]
     },
     "metadata": {},
     "output_type": "display_data"
    },
    {
     "name": "stdout",
     "output_type": "stream",
     "text": [
      "Fake image using label 0:\n"
     ]
    },
    {
     "data": {
      "image/png": "[encoded data removed]",
      "text/plain": [
       "<matplotlib.figure.Figure at 0x7ffb06045450>"
      ]
     },
     "metadata": {},
     "output_type": "display_data"
    }
   ],
   "source": [
    "train(3000, d_losses, gan_losses)"
   ]
  },
  {
   "cell_type": "code",
   "execution_count": null,
   "metadata": {
    "collapsed": true,
    "deletable": true,
    "editable": true
   },
   "outputs": [],
   "source": [
    "d_opt.lr.set_value(1e-3)\n",
    "gan_opt.lr.set_value(1e-3)"
   ]
  },
  {
   "cell_type": "code",
   "execution_count": null,
   "metadata": {
    "collapsed": false,
    "deletable": true,
    "editable": true,
    "scrolled": false
   },
   "outputs": [],
   "source": [
    "train(3000, d_losses, gan_losses)"
   ]
  },
  {
   "cell_type": "code",
   "execution_count": null,
   "metadata": {
    "collapsed": true,
    "deletable": true,
    "editable": true
   },
   "outputs": [],
   "source": [
    "d_opt.lr.set_value(1e-4)\n",
    "gan_opt.lr.set_value(1e-4)"
   ]
  },
  {
   "cell_type": "code",
   "execution_count": null,
   "metadata": {
    "collapsed": false,
    "deletable": true,
    "editable": true,
    "scrolled": false
   },
   "outputs": [],
   "source": [
    "train(5000, d_losses, gan_losses)"
   ]
  },
  {
   "cell_type": "code",
   "execution_count": null,
   "metadata": {
    "collapsed": true,
    "deletable": true,
    "editable": true
   },
   "outputs": [],
   "source": [
    "d_opt.lr.set_value(1e-6)\n",
    "gan_opt.lr.set_value(1e-6)"
   ]
  },
  {
   "cell_type": "code",
   "execution_count": null,
   "metadata": {
    "collapsed": false,
    "deletable": true,
    "editable": true,
    "scrolled": false
   },
   "outputs": [],
   "source": [
    "train(10000, d_losses, gan_losses)"
   ]
  },
  {
   "cell_type": "markdown",
   "metadata": {
    "deletable": true,
    "editable": true
   },
   "source": [
    "## Test GAN"
   ]
  },
  {
   "cell_type": "code",
   "execution_count": null,
   "metadata": {
    "collapsed": false,
    "deletable": true,
    "editable": true
   },
   "outputs": [],
   "source": [
    "show_fake_images(5, generator)"
   ]
  },
  {
   "cell_type": "code",
   "execution_count": null,
   "metadata": {
    "collapsed": false,
    "deletable": true,
    "editable": true
   },
   "outputs": [],
   "source": [
    "def show_all_labels(n, g_model):\n",
    "    plt.figure(figsize=(10,10))\n",
    "    for l in range(10):\n",
    "        noise = np.random.uniform(0, 1, size=[n, noise_dim])\n",
    "        labels = np_utils.to_categorical([l]*n, num_classes=nb_classes)\n",
    "        fake_images = g_model.predict([noise, labels], verbose=0)\n",
    "\n",
    "        for i, img in enumerate(fake_images):\n",
    "            plt.subplot(10, n, (l*n)+i+1)\n",
    "            plt.imshow(img[:,:,0], cmap=plt.cm.gray);\n",
    "            plt.axis('off')"
   ]
  },
  {
   "cell_type": "code",
   "execution_count": null,
   "metadata": {
    "collapsed": false,
    "deletable": true,
    "editable": true
   },
   "outputs": [],
   "source": [
    "show_all_labels(10, generator)"
   ]
  },
  {
   "cell_type": "code",
   "execution_count": null,
   "metadata": {
    "collapsed": true,
    "deletable": true,
    "editable": true
   },
   "outputs": [],
   "source": []
  },
  {
   "cell_type": "code",
   "execution_count": 85,
   "metadata": {
    "collapsed": true,
    "deletable": true,
    "editable": true
   },
   "outputs": [],
   "source": [
    "discriminator.save('discriminator-march-15-20k.h5')\n",
    "generator.save('generator-march-15-20k.h5')"
   ]
  },
  {
   "cell_type": "code",
   "execution_count": null,
   "metadata": {
    "collapsed": true,
    "deletable": true,
    "editable": true
   },
   "outputs": [],
   "source": []
  }
 ],
 "metadata": {
  "kernelspec": {
   "display_name": "Python 2",
   "language": "python",
   "name": "python2"
  },
  "language_info": {
   "codemirror_mode": {
    "name": "ipython",
    "version": 2
   },
   "file_extension": ".py",
   "mimetype": "text/x-python",
   "name": "python",
   "nbconvert_exporter": "python",
   "pygments_lexer": "ipython2",
   "version": "2.7.6"
  }
 },
 "nbformat": 4,
 "nbformat_minor": 2
}
